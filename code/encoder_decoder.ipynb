{
 "cells": [
  {
   "cell_type": "code",
   "execution_count": 1,
   "metadata": {},
   "outputs": [],
   "source": [
    "import torch\n",
    "from torch import nn as nn\n",
    "import torch.optim as optim\n",
    "import time\n",
    "import numpy as np\n",
    "import random\n",
    "import torch.nn.functional as F"
   ]
  },
  {
   "cell_type": "code",
   "execution_count": 2,
   "metadata": {},
   "outputs": [],
   "source": [
    "load_val = torch.load('valset_batchSize=64.pt')\n"
   ]
  },
  {
   "cell_type": "code",
   "execution_count": 4,
   "metadata": {},
   "outputs": [
    {
     "name": "stdout",
     "output_type": "stream",
     "text": [
      "torch.Size([13434, 16, 64, 14])\n"
     ]
    }
   ],
   "source": [
    "print(load_val[0].shape)"
   ]
  },
  {
   "cell_type": "code",
   "execution_count": 4,
   "metadata": {},
   "outputs": [
    {
     "name": "stdout",
     "output_type": "stream",
     "text": [
      "cpu\n"
     ]
    }
   ],
   "source": [
    "device = \"cuda\" if torch.cuda.is_available() else \"cpu\"\n",
    "print(device)"
   ]
  },
  {
   "cell_type": "code",
   "execution_count": 6,
   "metadata": {},
   "outputs": [
    {
     "data": {
      "text/plain": [
       "<torch._C.Generator at 0x7fd480c14490>"
      ]
     },
     "execution_count": 6,
     "metadata": {},
     "output_type": "execute_result"
    }
   ],
   "source": [
    "def prepare_data(batch_size, t_h): #假设 t_h = 8\n",
    "    inputs = torch.randn(batch_size, t_h, 14) # len(features) = 14\n",
    "    return inputs    # batch_size, seq_length, features"
   ]
  },
  {
   "cell_type": "code",
   "execution_count": 128,
   "metadata": {},
   "outputs": [
    {
     "name": "stdout",
     "output_type": "stream",
     "text": [
      "torch.Size([20, 8, 14])\n",
      "torch.Size([5, 8, 14])\n"
     ]
    }
   ],
   "source": [
    "ttttt = prepare_data(20, 8)\n",
    "input_batch = ttttt[ 0: 5,:, :]\n",
    "print(ttttt.shape)\n",
    "print(input_batch.shape)"
   ]
  },
  {
   "cell_type": "code",
   "execution_count": 70,
   "metadata": {},
   "outputs": [
    {
     "name": "stdout",
     "output_type": "stream",
     "text": [
      "torch.Size([1, 20, 128])\n"
     ]
    }
   ],
   "source": [
    "yyy = torch.rand(6,20,128)\n",
    "zzz = yyy[0].view(1,20,-1)\n",
    "print(zzz.shape)"
   ]
  },
  {
   "cell_type": "code",
   "execution_count": 79,
   "metadata": {},
   "outputs": [
    {
     "name": "stdout",
     "output_type": "stream",
     "text": [
      "torch.Size([20, 6])\n",
      "torch.Size([6])\n"
     ]
    },
    {
     "data": {
      "text/plain": [
       "torch.Size([1, 6])"
      ]
     },
     "execution_count": 79,
     "metadata": {},
     "output_type": "execute_result"
    }
   ],
   "source": [
    "ttt = torch.empty(6,20,6)\n",
    "print(ttt[0].shape)\n",
    "cla = torch.zeros(6,6)\n",
    "print(cla[0].shape)\n",
    "cla[0].view(1,-1).shape"
   ]
  },
  {
   "cell_type": "code",
   "execution_count": 81,
   "metadata": {},
   "outputs": [
    {
     "name": "stdout",
     "output_type": "stream",
     "text": [
      "torch.Size([6, 20, 6])\n"
     ]
    }
   ],
   "source": [
    "def one_hot_coding():\n",
    "    m_class = torch.zeros(6,6)\n",
    "    for i in range(0,6):\n",
    "        m_class[i][i] = 1\n",
    "    one_hot = torch.empty(6,20,6)\n",
    "    for i in range(6):\n",
    "        temp = m_class[i].view(1,-1)\n",
    "        for j in range(0, 19):\n",
    "            \n",
    "            temp = torch.cat((temp,m_class[i].view(1,-1)))\n",
    "        one_hot[i] = temp\n",
    "    return one_hot\n",
    "\n",
    "one_hot = one_hot_coding()\n",
    "print(one_hot.shape)"
   ]
  },
  {
   "cell_type": "markdown",
   "metadata": {
    "id": "fS25_0cRG-hg"
   },
   "source": [
    "## Load Data"
   ]
  },
  {
   "cell_type": "code",
   "execution_count": 10,
   "metadata": {},
   "outputs": [],
   "source": [
    "popoopo= nn.LSTM(64, hidden_size = 128,\n",
    "                            num_layers = 1, batch_first=True)"
   ]
  },
  {
   "cell_type": "code",
   "execution_count": 130,
   "metadata": {},
   "outputs": [],
   "source": [
    "class lstm_encoder(nn.Module):\n",
    "    ''' Encodes time-series sequence '''\n",
    "\n",
    "    def __init__(self, input_size, hidden_size=128, num_layers = 1):\n",
    "        \n",
    "        '''\n",
    "        : param input_size:     the number of features in the input X\n",
    "        : param hidden_size:    the number of features in the hidden state h\n",
    "        : param num_layers:     number of recurrent layers (i.e., 2 means there are\n",
    "        :                       2 stacked LSTMs)\n",
    "        '''\n",
    "        \n",
    "        super(lstm_encoder, self).__init__()\n",
    "        self.input_size = input_size\n",
    "        self.embedding = nn.Linear(input_size, 64)\n",
    "        self.hidden_size = 128\n",
    "        self.num_layers = 1\n",
    "\n",
    "        # define LSTM layer\n",
    "        self.lstm = nn.LSTM(64, hidden_size = 128,                        # input 是 (batch_size, sequence_size, input_size)\n",
    "                            num_layers = 1, batch_first=True)  # input为序列中单一元素的维度，因为是一个一个输进去的\n",
    "\n",
    "        #define activation:\n",
    "        self.leaky_relu = torch.nn.LeakyReLU(0.1)\n",
    "        \n",
    "    def forward(self, x_input):\n",
    "        \n",
    "        '''\n",
    "        : param x_input:               input of shape (seq_len, # in batch, input_size)\n",
    "        : return lstm_out, hidden:     lstm_out gives all the hidden states in the sequence;\n",
    "        :                              hidden gives the hidden state and cell state for the last\n",
    "        :                              element in the sequence \n",
    "        '''\n",
    "        embedded = self.embedding(x_input)\n",
    "        embedded = self.leaky_relu(embedded)\n",
    "        lstm_out, self.hidden = self.lstm(embedded)\n",
    "        \n",
    "        \n",
    "        return lstm_out, self.hidden     \n",
    "    \n",
    "    def init_hidden(self, batch_size):\n",
    "        \n",
    "        '''\n",
    "        initialize hidden state\n",
    "        : param batch_size:    x_input.shape[1]\n",
    "        : return:              zeroed hidden state and cell state \n",
    "        '''\n",
    "        # (self.n_layers, batch_size, self.hidden_dim)\n",
    "        return (torch.zeros(self.num_layers, batch_size, self.hidden_size),\n",
    "                torch.zeros(self.num_layers, batch_size, self.hidden_size))\n"
   ]
  },
  {
   "cell_type": "code",
   "execution_count": 118,
   "metadata": {},
   "outputs": [],
   "source": [
    "torch.manual_seed(1729)\n",
    "inputs = prepare_data(20, 8)\n",
    "input_sizes = 14\n",
    "encoder = lstm_encoder(input_sizes)"
   ]
  },
  {
   "cell_type": "code",
   "execution_count": 119,
   "metadata": {},
   "outputs": [
    {
     "name": "stdout",
     "output_type": "stream",
     "text": [
      "torch.Size([20, 8, 128])\n",
      "torch.Size([1, 20, 128])\n",
      "torch.Size([1, 20, 128])\n"
     ]
    }
   ],
   "source": [
    "output, hidden = encoder(inputs)\n",
    "print(output.shape)\n",
    "print(hidden[0].shape)\n",
    "print(hidden[1].shape)"
   ]
  },
  {
   "cell_type": "markdown",
   "metadata": {},
   "source": [
    "从Encoder到decoder的维度拼接："
   ]
  },
  {
   "cell_type": "code",
   "execution_count": 120,
   "metadata": {},
   "outputs": [],
   "source": [
    "h_d0 = torch.cat((hidden[0], one_hot[0].view(1,20,-1)),2)\n",
    "c_d0 = torch.cat((hidden[1], one_hot[0].view(1,20,-1)),2)\n",
    "cat_hidden_states = (h_d0, c_d0)\n"
   ]
  },
  {
   "cell_type": "code",
   "execution_count": 121,
   "metadata": {},
   "outputs": [],
   "source": [
    "class lstm_decoder(nn.Module):\n",
    "    ''' Decodes hidden state output by encoder '''\n",
    "    \n",
    "    def __init__(self, input_size, output_size, hidden_size=128, num_layers = 1):\n",
    "\n",
    "        '''\n",
    "        : param input_size:     the number of features in the input X\n",
    "        : param hidden_size:    the number of features in the hidden state h, unit number = 128\n",
    "        : param num_layers:     number of recurrent layers (i.e., 2 means there are\n",
    "        :                       2 stacked LSTMs)\n",
    "        '''\n",
    "        \n",
    "        super(lstm_decoder, self).__init__()\n",
    "        self.input_size = input_size\n",
    "        self.hidden_size = 134\n",
    "        self.num_layers = 1\n",
    "        #self.embedding = nn.Linear(input_size, 64)\n",
    "        self.lstm = nn.LSTM(128, hidden_size = self.hidden_size,\n",
    "                            num_layers = self.num_layers, batch_first=True)\n",
    "        self.linear = nn.Linear(self.hidden_size, output_size)           \n",
    "\n",
    "    def forward(self, encoder_input, encoder_hidden_states_cat):\n",
    "        \n",
    "        '''        \n",
    "        : param x_input:                    should be 2D (batch_size, input_size)\n",
    "        : param encoder_hidden_states:      hidden states\n",
    "        : return output, hidden:            output gives all the hidden states in the sequence;\n",
    "        :                                   hidden gives the hidden state and cell state for the last\n",
    "        :                                   element in the sequence \n",
    " \n",
    "        '''\n",
    "        lstm_out, self.hidden = self.lstm(encoder_input, encoder_hidden_states_cat)   \n",
    "        output = self.linear(lstm_out)      \n",
    "        \n",
    "        return output, self.hidden"
   ]
  },
  {
   "cell_type": "code",
   "execution_count": 134,
   "metadata": {},
   "outputs": [],
   "source": [
    "class lstm_seq2seq(nn.Module):\n",
    "    ''' train LSTM encoder-decoder and make predictions '''\n",
    "    \n",
    "    def __init__(self, enc_input_size, hidden_size):\n",
    "\n",
    "        super(lstm_seq2seq, self).__init__()\n",
    "\n",
    "        self.enc_input_size = enc_input_size\n",
    "        self.hidden_size = hidden_size\n",
    "        self.output_size = 2\n",
    "\n",
    "        self.encoder = lstm_encoder(self.enc_input_size)\n",
    "        self.decoder = lstm_decoder(input_size=128, output_size=2)\n",
    "\n",
    "\n",
    "    def train_model(self, input_tensor, target_tensor,  hot, n_epochs, target_len, batch_size, training_prediction = 'recursive', lr = 0.001):\n",
    "        \n",
    "        '''\n",
    "        train lstm encoder-decoder\n",
    "        \n",
    "        : param input_tensor:              input data with shape (seq_len, # in batch, number features); PyTorch tensor    \n",
    "        : param target_tensor:             target data with shape (seq_len, # in batch, number features); PyTorch tensor\n",
    "        : param n_epochs:                  number of epochs \n",
    "        : param target_len:                number of values to predict \n",
    "        : param batch_size:                number of samples per gradient update\n",
    "        : param training_prediction:       type of prediction to make during training ('recursive', 'teacher_forcing', or\n",
    "        :                                  'mixed_teacher_forcing'); default is 'recursive'\n",
    "        : param teacher_forcing_ratio:     float [0, 1) indicating how much teacher forcing to use when\n",
    "        :                                  training_prediction = 'teacher_forcing.' For each batch in training, we generate a random\n",
    "        :                                  number. If the random number is less than teacher_forcing_ratio, we use teacher forcing.\n",
    "        :                                  Otherwise, we predict recursively. If teacher_forcing_ratio = 1, we train only using\n",
    "        :                                  teacher forcing.\n",
    "        : param learning_rate:             float >= 0; learning rate\n",
    "        : param dynamic_tf:                use dynamic teacher forcing (True/False); dynamic teacher forcing\n",
    "        :                                  reduces the amount of teacher forcing for each epoch\n",
    "        : return losses:                   array of loss function for each epoch\n",
    "        '''\n",
    "        \n",
    "        # initialize array of losses \n",
    "        \n",
    "        loss_fn = nn.NLLLoss()\n",
    "        optimizer = torch.optim.Adam(self.parameters(), lr=0.001)\n",
    "        \n",
    "        # calculate number of batch iterations\n",
    "        n_batches = int(input_tensor.shape[0] / batch_size)\n",
    "\n",
    "        for it in range(n_epochs):\n",
    "            start = time.time()\n",
    "            \n",
    "            print(f\"Epoch {it+1}\\n-------------------------------\")\n",
    "            batch_loss = 0.\n",
    "            num = 0\n",
    "            for b in range(n_batches):\n",
    "                # select data \n",
    "                input_batch = input_tensor[b: b + batch_size, :, :]\n",
    "                target_batch = target_tensor[b: b + batch_size, :, :]\n",
    "\n",
    "                # outputs tensor\n",
    "                outputs = torch.zeros(batch_size, target_len, self.output_size)\n",
    "\n",
    "                # initialize hidden state\n",
    "                encoder_hidden = self.encoder.init_hidden(batch_size)\n",
    "\n",
    "                # zero the gradient\n",
    "                optimizer.zero_grad()\n",
    "\n",
    "                # encoder outputs\n",
    "                encoder_output, encoder_hidden = self.encoder(input_batch)\n",
    "\n",
    "                # use concat state as decoder's hidden states \n",
    "                decoder_input = encoder_output\n",
    "                for j in range(0,6):\n",
    "                    h_d = torch.cat((encoder_hidden[0], one_hot[j].view(1,20,-1)),2)\n",
    "                    c_d = torch.cat((encoder_hidden[1], one_hot[j].view(1,20,-1)),2)\n",
    "                    cat_hidden_states = (h_d0, c_d0)\n",
    "                    decoder_hidden = cat_hidden_states\n",
    "                    \n",
    "                    #decoder outputs \n",
    "                    pred, decoder_output_hidden = self.decoder(decoder_input, decoder_hidden)\n",
    "                    \n",
    "                    #computing loss\n",
    "                    loss = loss_fn(outputs.transpose(1,2), target_batch)\n",
    "                    batch_loss += loss.item()\n",
    "                    \n",
    "                # backpropagation\n",
    "                loss.backward()\n",
    "                optimizer.step()\n",
    "            batch_loss /= n_batches\n",
    "            losses = batch_loss\n",
    "            \n",
    "            # calculate iteration\n",
    "            \n",
    "            \n",
    "        \n",
    "        return losses \n",
    "                    \n",
    "                    \n"
   ]
  },
  {
   "cell_type": "code",
   "execution_count": 122,
   "metadata": {},
   "outputs": [
    {
     "name": "stdout",
     "output_type": "stream",
     "text": [
      "torch.Size([20, 8, 2])\n"
     ]
    }
   ],
   "source": [
    "decoder = lstm_decoder(input_size=128, output_size=2)\n",
    "decoder_output, decoder_hidden = decoder(output, cat_hidden_states)\n",
    "print(decoder_output.shape)"
   ]
  },
  {
   "cell_type": "markdown",
   "metadata": {},
   "source": [
    "# training"
   ]
  },
  {
   "cell_type": "code",
   "execution_count": 123,
   "metadata": {},
   "outputs": [],
   "source": [
    "# training\n"
   ]
  },
  {
   "cell_type": "markdown",
   "metadata": {},
   "source": [
    "# Evaluate："
   ]
  },
  {
   "cell_type": "code",
   "execution_count": null,
   "metadata": {},
   "outputs": [],
   "source": [
    "def evaluate():\n",
    "    "
   ]
  }
 ],
 "metadata": {
  "interpreter": {
   "hash": "31f2aee4e71d21fbe5cf8b01ff0e069b9275f58929596ceb00d14d90e3e16cd6"
  },
  "kernelspec": {
   "display_name": "Python 3.6.9 64-bit",
   "language": "python",
   "name": "python3"
  },
  "language_info": {
   "codemirror_mode": {
    "name": "ipython",
    "version": 3
   },
   "file_extension": ".py",
   "mimetype": "text/x-python",
   "name": "python",
   "nbconvert_exporter": "python",
   "pygments_lexer": "ipython3",
   "version": "3.9.7"
  },
  "orig_nbformat": 4
 },
 "nbformat": 4,
 "nbformat_minor": 2
}
